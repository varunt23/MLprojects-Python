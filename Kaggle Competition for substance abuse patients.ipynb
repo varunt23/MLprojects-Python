{
 "cells": [
  {
   "cell_type": "code",
   "execution_count": 1,
   "metadata": {},
   "outputs": [],
   "source": [
    "import numpy as np\n",
    "import pandas as pd\n",
    "import seaborn as sns\n",
    "import matplotlib.pyplot as plt\n",
    "%matplotlib inline"
   ]
  },
  {
   "cell_type": "code",
   "execution_count": 2,
   "metadata": {},
   "outputs": [],
   "source": [
    "train = pd.read_csv(r'C:\\Users\\samee\\Desktop\\qc-hackathon\\qc-hackathon\\substance-abuse\\data\\Train\\HackTrain.csv')\n",
    "test = pd.read_csv(r'C:\\Users\\samee\\Desktop\\qc-hackathon\\qc-hackathon\\substance-abuse\\data\\Test\\HackTest.csv')"
   ]
  },
  {
   "cell_type": "code",
   "execution_count": 3,
   "metadata": {},
   "outputs": [
    {
     "data": {
      "text/plain": [
       "63"
      ]
     },
     "execution_count": 3,
     "metadata": {},
     "output_type": "execute_result"
    }
   ],
   "source": [
    "len(test.columns)"
   ]
  },
  {
   "cell_type": "code",
   "execution_count": 4,
   "metadata": {},
   "outputs": [
    {
     "data": {
      "text/html": [
       "<div>\n",
       "<style scoped>\n",
       "    .dataframe tbody tr th:only-of-type {\n",
       "        vertical-align: middle;\n",
       "    }\n",
       "\n",
       "    .dataframe tbody tr th {\n",
       "        vertical-align: top;\n",
       "    }\n",
       "\n",
       "    .dataframe thead th {\n",
       "        text-align: right;\n",
       "    }\n",
       "</style>\n",
       "<table border=\"1\" class=\"dataframe\">\n",
       "  <thead>\n",
       "    <tr style=\"text-align: right;\">\n",
       "      <th></th>\n",
       "      <th>CASEID</th>\n",
       "      <th>YEAR</th>\n",
       "      <th>SERVSETA</th>\n",
       "      <th>DISYR</th>\n",
       "      <th>AGE</th>\n",
       "      <th>GENDER</th>\n",
       "      <th>RACE</th>\n",
       "      <th>ETHNIC</th>\n",
       "      <th>MARSTAT</th>\n",
       "      <th>EDUC</th>\n",
       "      <th>...</th>\n",
       "      <th>BARBFLG</th>\n",
       "      <th>SEDHPFLG</th>\n",
       "      <th>INHFLG</th>\n",
       "      <th>OTCFLG</th>\n",
       "      <th>OTHERFLG</th>\n",
       "      <th>ALCDRUG</th>\n",
       "      <th>DSMCRIT</th>\n",
       "      <th>PSYPROB</th>\n",
       "      <th>HLTHINS</th>\n",
       "      <th>PRIMPAY</th>\n",
       "    </tr>\n",
       "  </thead>\n",
       "  <tbody>\n",
       "    <tr>\n",
       "      <th>0</th>\n",
       "      <td>416562.0</td>\n",
       "      <td>2014</td>\n",
       "      <td>7</td>\n",
       "      <td>2014</td>\n",
       "      <td>7</td>\n",
       "      <td>2</td>\n",
       "      <td>5</td>\n",
       "      <td>5</td>\n",
       "      <td>4</td>\n",
       "      <td>4</td>\n",
       "      <td>...</td>\n",
       "      <td>0</td>\n",
       "      <td>0</td>\n",
       "      <td>0</td>\n",
       "      <td>0</td>\n",
       "      <td>0</td>\n",
       "      <td>2</td>\n",
       "      <td>8</td>\n",
       "      <td>-9</td>\n",
       "      <td>4</td>\n",
       "      <td>5</td>\n",
       "    </tr>\n",
       "    <tr>\n",
       "      <th>1</th>\n",
       "      <td>575373.0</td>\n",
       "      <td>2014</td>\n",
       "      <td>2</td>\n",
       "      <td>2014</td>\n",
       "      <td>7</td>\n",
       "      <td>1</td>\n",
       "      <td>5</td>\n",
       "      <td>5</td>\n",
       "      <td>1</td>\n",
       "      <td>5</td>\n",
       "      <td>...</td>\n",
       "      <td>0</td>\n",
       "      <td>0</td>\n",
       "      <td>0</td>\n",
       "      <td>0</td>\n",
       "      <td>0</td>\n",
       "      <td>1</td>\n",
       "      <td>9</td>\n",
       "      <td>2</td>\n",
       "      <td>1</td>\n",
       "      <td>1</td>\n",
       "    </tr>\n",
       "    <tr>\n",
       "      <th>2</th>\n",
       "      <td>600710.0</td>\n",
       "      <td>2014</td>\n",
       "      <td>6</td>\n",
       "      <td>2014</td>\n",
       "      <td>11</td>\n",
       "      <td>1</td>\n",
       "      <td>5</td>\n",
       "      <td>5</td>\n",
       "      <td>1</td>\n",
       "      <td>3</td>\n",
       "      <td>...</td>\n",
       "      <td>0</td>\n",
       "      <td>0</td>\n",
       "      <td>0</td>\n",
       "      <td>0</td>\n",
       "      <td>0</td>\n",
       "      <td>2</td>\n",
       "      <td>-9</td>\n",
       "      <td>2</td>\n",
       "      <td>4</td>\n",
       "      <td>5</td>\n",
       "    </tr>\n",
       "    <tr>\n",
       "      <th>3</th>\n",
       "      <td>859386.0</td>\n",
       "      <td>2014</td>\n",
       "      <td>7</td>\n",
       "      <td>2014</td>\n",
       "      <td>5</td>\n",
       "      <td>1</td>\n",
       "      <td>5</td>\n",
       "      <td>1</td>\n",
       "      <td>1</td>\n",
       "      <td>4</td>\n",
       "      <td>...</td>\n",
       "      <td>0</td>\n",
       "      <td>0</td>\n",
       "      <td>0</td>\n",
       "      <td>0</td>\n",
       "      <td>0</td>\n",
       "      <td>2</td>\n",
       "      <td>-9</td>\n",
       "      <td>2</td>\n",
       "      <td>3</td>\n",
       "      <td>-9</td>\n",
       "    </tr>\n",
       "    <tr>\n",
       "      <th>4</th>\n",
       "      <td>1257784.0</td>\n",
       "      <td>2014</td>\n",
       "      <td>7</td>\n",
       "      <td>2014</td>\n",
       "      <td>8</td>\n",
       "      <td>2</td>\n",
       "      <td>5</td>\n",
       "      <td>5</td>\n",
       "      <td>-9</td>\n",
       "      <td>5</td>\n",
       "      <td>...</td>\n",
       "      <td>0</td>\n",
       "      <td>0</td>\n",
       "      <td>0</td>\n",
       "      <td>0</td>\n",
       "      <td>0</td>\n",
       "      <td>2</td>\n",
       "      <td>5</td>\n",
       "      <td>-9</td>\n",
       "      <td>-9</td>\n",
       "      <td>-9</td>\n",
       "    </tr>\n",
       "  </tbody>\n",
       "</table>\n",
       "<p>5 rows × 66 columns</p>\n",
       "</div>"
      ],
      "text/plain": [
       "      CASEID  YEAR  SERVSETA  DISYR  AGE  GENDER  RACE  ETHNIC  MARSTAT  EDUC  \\\n",
       "0   416562.0  2014         7   2014    7       2     5       5        4     4   \n",
       "1   575373.0  2014         2   2014    7       1     5       5        1     5   \n",
       "2   600710.0  2014         6   2014   11       1     5       5        1     3   \n",
       "3   859386.0  2014         7   2014    5       1     5       1        1     4   \n",
       "4  1257784.0  2014         7   2014    8       2     5       5       -9     5   \n",
       "\n",
       "    ...     BARBFLG  SEDHPFLG  INHFLG  OTCFLG  OTHERFLG  ALCDRUG  DSMCRIT  \\\n",
       "0   ...           0         0       0       0         0        2        8   \n",
       "1   ...           0         0       0       0         0        1        9   \n",
       "2   ...           0         0       0       0         0        2       -9   \n",
       "3   ...           0         0       0       0         0        2       -9   \n",
       "4   ...           0         0       0       0         0        2        5   \n",
       "\n",
       "   PSYPROB  HLTHINS  PRIMPAY  \n",
       "0       -9        4        5  \n",
       "1        2        1        1  \n",
       "2        2        4        5  \n",
       "3        2        3       -9  \n",
       "4       -9       -9       -9  \n",
       "\n",
       "[5 rows x 66 columns]"
      ]
     },
     "execution_count": 4,
     "metadata": {},
     "output_type": "execute_result"
    }
   ],
   "source": [
    "train.head()\n",
    "train.head()"
   ]
  },
  {
   "cell_type": "code",
   "execution_count": 8,
   "metadata": {},
   "outputs": [
    {
     "data": {
      "text/plain": [
       "Index(['SERVSETA', 'DISYR', 'AGE', 'GENDER', 'RACE', 'ETHNIC', 'MARSTAT',\n",
       "       'EDUC', 'EMPLOY', 'DETNLF', 'PREG', 'VET', 'LIVARAG', 'PRIMINC',\n",
       "       'ARRESTS', 'STFIPS', 'CBSA', 'REGION', 'DIVISION', 'SERVSETD',\n",
       "       'METHUSE', 'DAYWAIT', 'PSOURCE', 'DETCRIM', 'NOPRIOR', 'SUB1', 'ROUTE1',\n",
       "       'FREQ1', 'FRSTUSE1', 'SUB2', 'ROUTE2', 'FREQ2', 'FRSTUSE2', 'SUB3',\n",
       "       'ROUTE3', 'FREQ3', 'FRSTUSE3', 'NUMSUBS', 'IDU', 'ALCFLG', 'COKEFLG',\n",
       "       'MARFLG', 'HERFLG', 'METHFLG', 'OPSYNFLG', 'PCPFLG', 'HALLFLG',\n",
       "       'MTHAMFLG', 'AMPHFLG', 'STIMFLG', 'BENZFLG', 'TRNQFLG', 'BARBFLG',\n",
       "       'SEDHPFLG', 'INHFLG', 'OTCFLG', 'OTHERFLG', 'ALCDRUG', 'DSMCRIT',\n",
       "       'PSYPROB', 'HLTHINS', 'PRIMPAY'],\n",
       "      dtype='object')"
      ]
     },
     "execution_count": 8,
     "metadata": {},
     "output_type": "execute_result"
    }
   ],
   "source": [
    "#train = train.drop('YEAR', axis=1)\n",
    "#train = train.drop('CASEID', axis=1)\n",
    "#test = test.drop('YEAR', axis=1)\n",
    "test = test.drop('CASEID', axis=1)\n",
    "test.head()\n",
    "test.columns"
   ]
  },
  {
   "cell_type": "code",
   "execution_count": 9,
   "metadata": {},
   "outputs": [],
   "source": [
    "X_NO_LOS = train.drop('LOS', axis=1)\n",
    "\n",
    "\n",
    "X_NO_REASON = train.drop('REASON', axis=1)\n",
    "X_NO_LOS_REASON = X_NO_LOS.drop('REASON', axis=1)\n",
    "\n",
    "Y_LOS = train['LOS']\n",
    "Y_REASON = train['REASON']"
   ]
  },
  {
   "cell_type": "code",
   "execution_count": null,
   "metadata": {},
   "outputs": [],
   "source": [
    "from xgboost import XGBClassifier\n",
    "from sklearn.model_selection import train_test_split\n",
    "X_train, X_test, y_train, y_test = train_test_split(X_NO_LOS_REASON, Y_LOS, test_size=.33, random_state=101)\n",
    "XGB = XGBClassifier()\n",
    "XGB.fit(X_train, y_train)\n",
    "predictions = XGB.predict(X_test)\n",
    "\n",
    "\n",
    "from sklearn import metrics\n",
    "np.sqrt(metrics.mean_squared_error(y_test, predictions))"
   ]
  },
  {
   "cell_type": "code",
   "execution_count": 95,
   "metadata": {},
   "outputs": [],
   "source": [
    "from sklearn.model_selection import train_test_split"
   ]
  },
  {
   "cell_type": "code",
   "execution_count": 96,
   "metadata": {},
   "outputs": [],
   "source": [
    "from sklearn.linear_model import LinearRegression\n",
    "X_train, X_test, y_train, y_test = train_test_split(X_NO_LOS_REASON, Y_LOS, test_size=.4, random_state=101)\n",
    "\n",
    "lm = LinearRegression()\n",
    "lm.fit(X_train, y_train)\n",
    "predictions = lm.predict(X_test)\n",
    "linearPred = lm.predict(test)"
   ]
  },
  {
   "cell_type": "code",
   "execution_count": 97,
   "metadata": {},
   "outputs": [
    {
     "data": {
      "text/plain": [
       "10.123223339994675"
      ]
     },
     "execution_count": 97,
     "metadata": {},
     "output_type": "execute_result"
    }
   ],
   "source": [
    "from sklearn import metrics\n",
    "np.sqrt(metrics.mean_squared_error(y_test, predictions))"
   ]
  },
  {
   "cell_type": "code",
   "execution_count": 99,
   "metadata": {},
   "outputs": [],
   "source": [
    "# Predicting the Reason, 1 or 0.\n",
    "X_train, X_test, y_train, y_test = train_test_split(X_NO_LOS_REASON, Y_REASON, test_size=.4, random_state=101)\n",
    "from sklearn.linear_model import LogisticRegression\n",
    "log = LogisticRegression()\n",
    "log.fit(X_train, y_train)\n",
    "predictions = log.predict(X_test)\n",
    "logPred = log.predict(test)"
   ]
  },
  {
   "cell_type": "code",
   "execution_count": 100,
   "metadata": {},
   "outputs": [
    {
     "name": "stdout",
     "output_type": "stream",
     "text": [
      "             precision    recall  f1-score   support\n",
      "\n",
      "          0       0.67      0.79      0.73    319024\n",
      "          1       0.65      0.49      0.56    243305\n",
      "\n",
      "avg / total       0.66      0.66      0.65    562329\n",
      "\n"
     ]
    }
   ],
   "source": [
    "from sklearn.metrics import classification_report\n",
    "print(classification_report(y_test, predictions))"
   ]
  },
  {
   "cell_type": "code",
   "execution_count": null,
   "metadata": {},
   "outputs": [],
   "source": [
    "from sklearn.svm import SVC\n",
    "from sklearn.model_selection import train_test_split\n",
    "X_train, X_test, y_train, y_test = train_test_split(X_NO_LOS_REASON, Y_REASON, test_size=.33, random_state=101)\n",
    "SVC = SVC()\n",
    "SVC.fit(X_train, y_train)\n",
    "predictions = SVC.predict(X_test)\n",
    "from sklearn.metrics import classification_report\n",
    "print(classification_report(y_test,predictions))"
   ]
  },
  {
   "cell_type": "code",
   "execution_count": null,
   "metadata": {},
   "outputs": [],
   "source": [
    "exp = pd.DataFrame([linearPred,logPred], dtype=float)"
   ]
  },
  {
   "cell_type": "code",
   "execution_count": 111,
   "metadata": {
    "scrolled": true
   },
   "outputs": [
    {
     "data": {
      "text/html": [
       "<div>\n",
       "<style scoped>\n",
       "    .dataframe tbody tr th:only-of-type {\n",
       "        vertical-align: middle;\n",
       "    }\n",
       "\n",
       "    .dataframe tbody tr th {\n",
       "        vertical-align: top;\n",
       "    }\n",
       "\n",
       "    .dataframe thead th {\n",
       "        text-align: right;\n",
       "    }\n",
       "</style>\n",
       "<table border=\"1\" class=\"dataframe\">\n",
       "  <thead>\n",
       "    <tr style=\"text-align: right;\">\n",
       "      <th></th>\n",
       "      <th>0</th>\n",
       "      <th>1</th>\n",
       "    </tr>\n",
       "  </thead>\n",
       "  <tbody>\n",
       "    <tr>\n",
       "      <th>0</th>\n",
       "      <td>27.963745</td>\n",
       "      <td>0.0</td>\n",
       "    </tr>\n",
       "    <tr>\n",
       "      <th>1</th>\n",
       "      <td>32.084229</td>\n",
       "      <td>0.0</td>\n",
       "    </tr>\n",
       "    <tr>\n",
       "      <th>2</th>\n",
       "      <td>30.364746</td>\n",
       "      <td>0.0</td>\n",
       "    </tr>\n",
       "    <tr>\n",
       "      <th>3</th>\n",
       "      <td>31.508911</td>\n",
       "      <td>1.0</td>\n",
       "    </tr>\n",
       "    <tr>\n",
       "      <th>4</th>\n",
       "      <td>9.158203</td>\n",
       "      <td>1.0</td>\n",
       "    </tr>\n",
       "    <tr>\n",
       "      <th>5</th>\n",
       "      <td>20.049316</td>\n",
       "      <td>0.0</td>\n",
       "    </tr>\n",
       "    <tr>\n",
       "      <th>6</th>\n",
       "      <td>33.299194</td>\n",
       "      <td>0.0</td>\n",
       "    </tr>\n",
       "    <tr>\n",
       "      <th>7</th>\n",
       "      <td>31.203613</td>\n",
       "      <td>0.0</td>\n",
       "    </tr>\n",
       "    <tr>\n",
       "      <th>8</th>\n",
       "      <td>33.571899</td>\n",
       "      <td>0.0</td>\n",
       "    </tr>\n",
       "    <tr>\n",
       "      <th>9</th>\n",
       "      <td>31.083496</td>\n",
       "      <td>0.0</td>\n",
       "    </tr>\n",
       "    <tr>\n",
       "      <th>10</th>\n",
       "      <td>31.276855</td>\n",
       "      <td>0.0</td>\n",
       "    </tr>\n",
       "    <tr>\n",
       "      <th>11</th>\n",
       "      <td>7.589600</td>\n",
       "      <td>1.0</td>\n",
       "    </tr>\n",
       "    <tr>\n",
       "      <th>12</th>\n",
       "      <td>24.930542</td>\n",
       "      <td>1.0</td>\n",
       "    </tr>\n",
       "    <tr>\n",
       "      <th>13</th>\n",
       "      <td>26.294312</td>\n",
       "      <td>0.0</td>\n",
       "    </tr>\n",
       "    <tr>\n",
       "      <th>14</th>\n",
       "      <td>27.881470</td>\n",
       "      <td>0.0</td>\n",
       "    </tr>\n",
       "    <tr>\n",
       "      <th>15</th>\n",
       "      <td>28.257935</td>\n",
       "      <td>1.0</td>\n",
       "    </tr>\n",
       "    <tr>\n",
       "      <th>16</th>\n",
       "      <td>31.004761</td>\n",
       "      <td>0.0</td>\n",
       "    </tr>\n",
       "    <tr>\n",
       "      <th>17</th>\n",
       "      <td>17.416992</td>\n",
       "      <td>1.0</td>\n",
       "    </tr>\n",
       "    <tr>\n",
       "      <th>18</th>\n",
       "      <td>27.417358</td>\n",
       "      <td>1.0</td>\n",
       "    </tr>\n",
       "    <tr>\n",
       "      <th>19</th>\n",
       "      <td>27.245361</td>\n",
       "      <td>0.0</td>\n",
       "    </tr>\n",
       "    <tr>\n",
       "      <th>20</th>\n",
       "      <td>33.062744</td>\n",
       "      <td>0.0</td>\n",
       "    </tr>\n",
       "    <tr>\n",
       "      <th>21</th>\n",
       "      <td>28.375732</td>\n",
       "      <td>0.0</td>\n",
       "    </tr>\n",
       "    <tr>\n",
       "      <th>22</th>\n",
       "      <td>25.784058</td>\n",
       "      <td>1.0</td>\n",
       "    </tr>\n",
       "    <tr>\n",
       "      <th>23</th>\n",
       "      <td>29.027832</td>\n",
       "      <td>0.0</td>\n",
       "    </tr>\n",
       "    <tr>\n",
       "      <th>24</th>\n",
       "      <td>34.053955</td>\n",
       "      <td>0.0</td>\n",
       "    </tr>\n",
       "    <tr>\n",
       "      <th>25</th>\n",
       "      <td>29.824829</td>\n",
       "      <td>0.0</td>\n",
       "    </tr>\n",
       "    <tr>\n",
       "      <th>26</th>\n",
       "      <td>7.262695</td>\n",
       "      <td>1.0</td>\n",
       "    </tr>\n",
       "    <tr>\n",
       "      <th>27</th>\n",
       "      <td>24.382446</td>\n",
       "      <td>0.0</td>\n",
       "    </tr>\n",
       "    <tr>\n",
       "      <th>28</th>\n",
       "      <td>22.124878</td>\n",
       "      <td>0.0</td>\n",
       "    </tr>\n",
       "    <tr>\n",
       "      <th>29</th>\n",
       "      <td>29.072144</td>\n",
       "      <td>1.0</td>\n",
       "    </tr>\n",
       "    <tr>\n",
       "      <th>...</th>\n",
       "      <td>...</td>\n",
       "      <td>...</td>\n",
       "    </tr>\n",
       "    <tr>\n",
       "      <th>73961</th>\n",
       "      <td>30.083618</td>\n",
       "      <td>0.0</td>\n",
       "    </tr>\n",
       "    <tr>\n",
       "      <th>73962</th>\n",
       "      <td>17.077881</td>\n",
       "      <td>0.0</td>\n",
       "    </tr>\n",
       "    <tr>\n",
       "      <th>73963</th>\n",
       "      <td>26.784058</td>\n",
       "      <td>1.0</td>\n",
       "    </tr>\n",
       "    <tr>\n",
       "      <th>73964</th>\n",
       "      <td>8.920044</td>\n",
       "      <td>1.0</td>\n",
       "    </tr>\n",
       "    <tr>\n",
       "      <th>73965</th>\n",
       "      <td>28.014404</td>\n",
       "      <td>0.0</td>\n",
       "    </tr>\n",
       "    <tr>\n",
       "      <th>73966</th>\n",
       "      <td>28.542603</td>\n",
       "      <td>0.0</td>\n",
       "    </tr>\n",
       "    <tr>\n",
       "      <th>73967</th>\n",
       "      <td>21.948975</td>\n",
       "      <td>1.0</td>\n",
       "    </tr>\n",
       "    <tr>\n",
       "      <th>73968</th>\n",
       "      <td>26.914795</td>\n",
       "      <td>0.0</td>\n",
       "    </tr>\n",
       "    <tr>\n",
       "      <th>73969</th>\n",
       "      <td>23.665649</td>\n",
       "      <td>0.0</td>\n",
       "    </tr>\n",
       "    <tr>\n",
       "      <th>73970</th>\n",
       "      <td>30.720825</td>\n",
       "      <td>0.0</td>\n",
       "    </tr>\n",
       "    <tr>\n",
       "      <th>73971</th>\n",
       "      <td>27.627563</td>\n",
       "      <td>0.0</td>\n",
       "    </tr>\n",
       "    <tr>\n",
       "      <th>73972</th>\n",
       "      <td>31.519531</td>\n",
       "      <td>0.0</td>\n",
       "    </tr>\n",
       "    <tr>\n",
       "      <th>73973</th>\n",
       "      <td>36.703857</td>\n",
       "      <td>1.0</td>\n",
       "    </tr>\n",
       "    <tr>\n",
       "      <th>73974</th>\n",
       "      <td>30.966675</td>\n",
       "      <td>0.0</td>\n",
       "    </tr>\n",
       "    <tr>\n",
       "      <th>73975</th>\n",
       "      <td>29.215210</td>\n",
       "      <td>0.0</td>\n",
       "    </tr>\n",
       "    <tr>\n",
       "      <th>73976</th>\n",
       "      <td>28.796143</td>\n",
       "      <td>0.0</td>\n",
       "    </tr>\n",
       "    <tr>\n",
       "      <th>73977</th>\n",
       "      <td>30.486084</td>\n",
       "      <td>0.0</td>\n",
       "    </tr>\n",
       "    <tr>\n",
       "      <th>73978</th>\n",
       "      <td>26.593628</td>\n",
       "      <td>0.0</td>\n",
       "    </tr>\n",
       "    <tr>\n",
       "      <th>73979</th>\n",
       "      <td>22.990967</td>\n",
       "      <td>0.0</td>\n",
       "    </tr>\n",
       "    <tr>\n",
       "      <th>73980</th>\n",
       "      <td>27.062256</td>\n",
       "      <td>0.0</td>\n",
       "    </tr>\n",
       "    <tr>\n",
       "      <th>73981</th>\n",
       "      <td>28.603149</td>\n",
       "      <td>0.0</td>\n",
       "    </tr>\n",
       "    <tr>\n",
       "      <th>73982</th>\n",
       "      <td>35.532593</td>\n",
       "      <td>0.0</td>\n",
       "    </tr>\n",
       "    <tr>\n",
       "      <th>73983</th>\n",
       "      <td>19.911865</td>\n",
       "      <td>0.0</td>\n",
       "    </tr>\n",
       "    <tr>\n",
       "      <th>73984</th>\n",
       "      <td>7.672852</td>\n",
       "      <td>1.0</td>\n",
       "    </tr>\n",
       "    <tr>\n",
       "      <th>73985</th>\n",
       "      <td>28.696777</td>\n",
       "      <td>0.0</td>\n",
       "    </tr>\n",
       "    <tr>\n",
       "      <th>73986</th>\n",
       "      <td>29.209717</td>\n",
       "      <td>0.0</td>\n",
       "    </tr>\n",
       "    <tr>\n",
       "      <th>73987</th>\n",
       "      <td>8.888672</td>\n",
       "      <td>0.0</td>\n",
       "    </tr>\n",
       "    <tr>\n",
       "      <th>73988</th>\n",
       "      <td>28.099243</td>\n",
       "      <td>0.0</td>\n",
       "    </tr>\n",
       "    <tr>\n",
       "      <th>73989</th>\n",
       "      <td>28.349731</td>\n",
       "      <td>0.0</td>\n",
       "    </tr>\n",
       "    <tr>\n",
       "      <th>73990</th>\n",
       "      <td>9.833130</td>\n",
       "      <td>1.0</td>\n",
       "    </tr>\n",
       "  </tbody>\n",
       "</table>\n",
       "<p>73991 rows × 2 columns</p>\n",
       "</div>"
      ],
      "text/plain": [
       "               0    1\n",
       "0      27.963745  0.0\n",
       "1      32.084229  0.0\n",
       "2      30.364746  0.0\n",
       "3      31.508911  1.0\n",
       "4       9.158203  1.0\n",
       "5      20.049316  0.0\n",
       "6      33.299194  0.0\n",
       "7      31.203613  0.0\n",
       "8      33.571899  0.0\n",
       "9      31.083496  0.0\n",
       "10     31.276855  0.0\n",
       "11      7.589600  1.0\n",
       "12     24.930542  1.0\n",
       "13     26.294312  0.0\n",
       "14     27.881470  0.0\n",
       "15     28.257935  1.0\n",
       "16     31.004761  0.0\n",
       "17     17.416992  1.0\n",
       "18     27.417358  1.0\n",
       "19     27.245361  0.0\n",
       "20     33.062744  0.0\n",
       "21     28.375732  0.0\n",
       "22     25.784058  1.0\n",
       "23     29.027832  0.0\n",
       "24     34.053955  0.0\n",
       "25     29.824829  0.0\n",
       "26      7.262695  1.0\n",
       "27     24.382446  0.0\n",
       "28     22.124878  0.0\n",
       "29     29.072144  1.0\n",
       "...          ...  ...\n",
       "73961  30.083618  0.0\n",
       "73962  17.077881  0.0\n",
       "73963  26.784058  1.0\n",
       "73964   8.920044  1.0\n",
       "73965  28.014404  0.0\n",
       "73966  28.542603  0.0\n",
       "73967  21.948975  1.0\n",
       "73968  26.914795  0.0\n",
       "73969  23.665649  0.0\n",
       "73970  30.720825  0.0\n",
       "73971  27.627563  0.0\n",
       "73972  31.519531  0.0\n",
       "73973  36.703857  1.0\n",
       "73974  30.966675  0.0\n",
       "73975  29.215210  0.0\n",
       "73976  28.796143  0.0\n",
       "73977  30.486084  0.0\n",
       "73978  26.593628  0.0\n",
       "73979  22.990967  0.0\n",
       "73980  27.062256  0.0\n",
       "73981  28.603149  0.0\n",
       "73982  35.532593  0.0\n",
       "73983  19.911865  0.0\n",
       "73984   7.672852  1.0\n",
       "73985  28.696777  0.0\n",
       "73986  29.209717  0.0\n",
       "73987   8.888672  0.0\n",
       "73988  28.099243  0.0\n",
       "73989  28.349731  0.0\n",
       "73990   9.833130  1.0\n",
       "\n",
       "[73991 rows x 2 columns]"
      ]
     },
     "execution_count": 111,
     "metadata": {},
     "output_type": "execute_result"
    }
   ],
   "source": [
    "exp.transpose()"
   ]
  },
  {
   "cell_type": "code",
   "execution_count": 122,
   "metadata": {},
   "outputs": [],
   "source": [
    "t = pd.read_csv(r'C:\\Users\\samee\\Desktop\\QC Hackathon\\qc-hackathon\\qc-hackathon\\substance-abuse\\data\\Test\\HackTest.csv')"
   ]
  },
  {
   "cell_type": "code",
   "execution_count": 113,
   "metadata": {
    "scrolled": true
   },
   "outputs": [
    {
     "data": {
      "text/plain": [
       "Index(['CASEID', 'SERVSETA', 'DISYR', 'AGE', 'GENDER', 'RACE', 'ETHNIC',\n",
       "       'MARSTAT', 'EDUC', 'EMPLOY', 'DETNLF', 'PREG', 'VET', 'LIVARAG',\n",
       "       'PRIMINC', 'ARRESTS', 'STFIPS', 'CBSA', 'REGION', 'DIVISION',\n",
       "       'SERVSETD', 'METHUSE', 'DAYWAIT', 'PSOURCE', 'DETCRIM', 'NOPRIOR',\n",
       "       'SUB1', 'ROUTE1', 'FREQ1', 'FRSTUSE1', 'SUB2', 'ROUTE2', 'FREQ2',\n",
       "       'FRSTUSE2', 'SUB3', 'ROUTE3', 'FREQ3', 'FRSTUSE3', 'NUMSUBS', 'IDU',\n",
       "       'ALCFLG', 'COKEFLG', 'MARFLG', 'HERFLG', 'METHFLG', 'OPSYNFLG',\n",
       "       'PCPFLG', 'HALLFLG', 'MTHAMFLG', 'AMPHFLG', 'STIMFLG', 'BENZFLG',\n",
       "       'TRNQFLG', 'BARBFLG', 'SEDHPFLG', 'INHFLG', 'OTCFLG', 'OTHERFLG',\n",
       "       'ALCDRUG', 'DSMCRIT', 'PSYPROB', 'HLTHINS', 'PRIMPAY'],\n",
       "      dtype='object')"
      ]
     },
     "execution_count": 113,
     "metadata": {},
     "output_type": "execute_result"
    }
   ],
   "source": [
    "t.columns"
   ]
  },
  {
   "cell_type": "code",
   "execution_count": 115,
   "metadata": {},
   "outputs": [],
   "source": [
    "exp['CASEID'] = t['CASEID']"
   ]
  },
  {
   "cell_type": "code",
   "execution_count": 125,
   "metadata": {},
   "outputs": [],
   "source": [
    "tran = exp.transpose()"
   ]
  },
  {
   "cell_type": "code",
   "execution_count": 131,
   "metadata": {},
   "outputs": [
    {
     "data": {
      "text/html": [
       "<div>\n",
       "<style scoped>\n",
       "    .dataframe tbody tr th:only-of-type {\n",
       "        vertical-align: middle;\n",
       "    }\n",
       "\n",
       "    .dataframe tbody tr th {\n",
       "        vertical-align: top;\n",
       "    }\n",
       "\n",
       "    .dataframe thead th {\n",
       "        text-align: right;\n",
       "    }\n",
       "</style>\n",
       "<table border=\"1\" class=\"dataframe\">\n",
       "  <thead>\n",
       "    <tr style=\"text-align: right;\">\n",
       "      <th></th>\n",
       "      <th>0</th>\n",
       "      <th>1</th>\n",
       "      <th>CASEID</th>\n",
       "    </tr>\n",
       "  </thead>\n",
       "  <tbody>\n",
       "    <tr>\n",
       "      <th>0</th>\n",
       "      <td>27.963745</td>\n",
       "      <td>0.0</td>\n",
       "      <td>18.0</td>\n",
       "    </tr>\n",
       "    <tr>\n",
       "      <th>1</th>\n",
       "      <td>32.084229</td>\n",
       "      <td>0.0</td>\n",
       "      <td>53.0</td>\n",
       "    </tr>\n",
       "    <tr>\n",
       "      <th>2</th>\n",
       "      <td>30.364746</td>\n",
       "      <td>0.0</td>\n",
       "      <td>57.0</td>\n",
       "    </tr>\n",
       "    <tr>\n",
       "      <th>3</th>\n",
       "      <td>31.508911</td>\n",
       "      <td>1.0</td>\n",
       "      <td>74.0</td>\n",
       "    </tr>\n",
       "    <tr>\n",
       "      <th>4</th>\n",
       "      <td>9.158203</td>\n",
       "      <td>1.0</td>\n",
       "      <td>79.0</td>\n",
       "    </tr>\n",
       "  </tbody>\n",
       "</table>\n",
       "</div>"
      ],
      "text/plain": [
       "           0    1  CASEID\n",
       "0  27.963745  0.0    18.0\n",
       "1  32.084229  0.0    53.0\n",
       "2  30.364746  0.0    57.0\n",
       "3  31.508911  1.0    74.0\n",
       "4   9.158203  1.0    79.0"
      ]
     },
     "execution_count": 131,
     "metadata": {},
     "output_type": "execute_result"
    }
   ],
   "source": [
    "tran['CASEID'] = t['CASEID']\n",
    "tran.head()"
   ]
  },
  {
   "cell_type": "code",
   "execution_count": 133,
   "metadata": {},
   "outputs": [
    {
     "data": {
      "text/html": [
       "<div>\n",
       "<style scoped>\n",
       "    .dataframe tbody tr th:only-of-type {\n",
       "        vertical-align: middle;\n",
       "    }\n",
       "\n",
       "    .dataframe tbody tr th {\n",
       "        vertical-align: top;\n",
       "    }\n",
       "\n",
       "    .dataframe thead th {\n",
       "        text-align: right;\n",
       "    }\n",
       "</style>\n",
       "<table border=\"1\" class=\"dataframe\">\n",
       "  <thead>\n",
       "    <tr style=\"text-align: right;\">\n",
       "      <th></th>\n",
       "      <th>CASEID</th>\n",
       "      <th>0</th>\n",
       "      <th>1</th>\n",
       "    </tr>\n",
       "  </thead>\n",
       "  <tbody>\n",
       "    <tr>\n",
       "      <th>0</th>\n",
       "      <td>18.0</td>\n",
       "      <td>27.963745</td>\n",
       "      <td>0.0</td>\n",
       "    </tr>\n",
       "    <tr>\n",
       "      <th>1</th>\n",
       "      <td>53.0</td>\n",
       "      <td>32.084229</td>\n",
       "      <td>0.0</td>\n",
       "    </tr>\n",
       "    <tr>\n",
       "      <th>2</th>\n",
       "      <td>57.0</td>\n",
       "      <td>30.364746</td>\n",
       "      <td>0.0</td>\n",
       "    </tr>\n",
       "    <tr>\n",
       "      <th>3</th>\n",
       "      <td>74.0</td>\n",
       "      <td>31.508911</td>\n",
       "      <td>1.0</td>\n",
       "    </tr>\n",
       "    <tr>\n",
       "      <th>4</th>\n",
       "      <td>79.0</td>\n",
       "      <td>9.158203</td>\n",
       "      <td>1.0</td>\n",
       "    </tr>\n",
       "  </tbody>\n",
       "</table>\n",
       "</div>"
      ],
      "text/plain": [
       "   CASEID          0    1\n",
       "0    18.0  27.963745  0.0\n",
       "1    53.0  32.084229  0.0\n",
       "2    57.0  30.364746  0.0\n",
       "3    74.0  31.508911  1.0\n",
       "4    79.0   9.158203  1.0"
      ]
     },
     "execution_count": 133,
     "metadata": {},
     "output_type": "execute_result"
    }
   ],
   "source": [
    "tran = tran[['CASEID', 0, 1]]\n",
    "tran.head()"
   ]
  },
  {
   "cell_type": "code",
   "execution_count": 102,
   "metadata": {},
   "outputs": [
    {
     "ename": "NameError",
     "evalue": "name 'tran' is not defined",
     "output_type": "error",
     "traceback": [
      "\u001b[1;31m---------------------------------------------------------------------------\u001b[0m",
      "\u001b[1;31mNameError\u001b[0m                                 Traceback (most recent call last)",
      "\u001b[1;32m<ipython-input-102-6d1ce99126f1>\u001b[0m in \u001b[0;36m<module>\u001b[1;34m()\u001b[0m\n\u001b[1;32m----> 1\u001b[1;33m \u001b[0mtran\u001b[0m\u001b[1;33m.\u001b[0m\u001b[0mto_csv\u001b[0m\u001b[1;33m(\u001b[0m\u001b[0mpath_or_buf\u001b[0m\u001b[1;33m=\u001b[0m\u001b[1;34mr'C:\\Users\\samee\\Desktop\\QC Hackathon\\qc-hackathon\\qc-hackathon\\substance-abuse\\submission.csv'\u001b[0m\u001b[1;33m,\u001b[0m \u001b[0mheader\u001b[0m\u001b[1;33m=\u001b[0m\u001b[1;32mFalse\u001b[0m\u001b[1;33m)\u001b[0m\u001b[1;33m\u001b[0m\u001b[0m\n\u001b[0m",
      "\u001b[1;31mNameError\u001b[0m: name 'tran' is not defined"
     ]
    }
   ],
   "source": [
    "tran.to_csv(path_or_buf=r'C:\\Users\\samee\\Desktop\\QC Hackathon\\qc-hackathon\\qc-hackathon\\substance-abuse\\submission.csv', header=False)"
   ]
  },
  {
   "cell_type": "code",
   "execution_count": 103,
   "metadata": {},
   "outputs": [],
   "source": [
    "X_NO_LOS_REASON_DROP = X_NO_LOS.drop('ROUTE2', axis=1)\n",
    "X_NO_LOS_REASON_DROP = X_NO_LOS_REASON_DROP.drop('FREQ2', axis=1)\n",
    "X_NO_LOS_REASON_DROP = X_NO_LOS_REASON_DROP.drop('FRSTUSE2', axis=1)\n",
    "X_NO_LOS_REASON_DROP = X_NO_LOS_REASON_DROP.drop('ROUTE3', axis=1)\n",
    "X_NO_LOS_REASON_DROP = X_NO_LOS_REASON_DROP.drop('FREQ3', axis=1)\n",
    "X_NO_LOS_REASON_DROP = X_NO_LOS_REASON_DROP.drop('FRSTUSE3', axis=1)\n",
    "X_NO_LOS_REASON_DROP = X_NO_LOS_REASON_DROP.drop('IDU', axis=1)\n",
    "X_NO_LOS_REASON_DROP = X_NO_LOS_REASON_DROP.drop('DETCRIM', axis=1)\n",
    "X_NO_LOS_REASON_DROP = X_NO_LOS_REASON_DROP.drop('DSMCRIT', axis=1)\n",
    "X_NO_LOS_REASON_DROP = X_NO_LOS_REASON_DROP.drop('HLTHINS', axis=1)\n",
    "X_NO_LOS_REASON_DROP = X_NO_LOS_REASON_DROP.drop('PRIMPAY', axis=1)\n",
    "X_NO_LOS_REASON_DROP = X_NO_LOS_REASON_DROP.drop('REASON', axis=1)\n",
    "\n",
    "\n",
    "test2 = test.drop('ROUTE2', axis=1)\n",
    "test2 = test2.drop('FREQ2', axis=1)\n",
    "test2 = test2.drop('FRSTUSE2', axis=1)\n",
    "test2 = test2.drop('ROUTE3', axis=1)\n",
    "test2 = test2.drop('FREQ3', axis=1)\n",
    "test2 = test2.drop('FRSTUSE3', axis=1)\n",
    "test2 = test2.drop('IDU', axis=1)\n",
    "test2 = test2.drop('DETCRIM', axis=1)\n",
    "test2 = test2.drop('DSMCRIT', axis=1)\n",
    "test2 = test2.drop('HLTHINS', axis=1)\n",
    "test2 = test2.drop('PRIMPAY', axis=1)\n"
   ]
  },
  {
   "cell_type": "code",
   "execution_count": 160,
   "metadata": {},
   "outputs": [
    {
     "name": "stdout",
     "output_type": "stream",
     "text": [
      "Index(['SERVSETA', 'DISYR', 'AGE', 'GENDER', 'RACE', 'ETHNIC', 'MARSTAT',\n",
      "       'EDUC', 'EMPLOY', 'DETNLF', 'PREG', 'VET', 'LIVARAG', 'PRIMINC',\n",
      "       'ARRESTS', 'STFIPS', 'CBSA', 'REGION', 'DIVISION', 'SERVSETD',\n",
      "       'METHUSE', 'DAYWAIT', 'PSOURCE', 'NOPRIOR', 'SUB1', 'ROUTE1', 'FREQ1',\n",
      "       'FRSTUSE1', 'SUB2', 'SUB3', 'NUMSUBS', 'ALCFLG', 'COKEFLG', 'MARFLG',\n",
      "       'HERFLG', 'METHFLG', 'OPSYNFLG', 'PCPFLG', 'HALLFLG', 'MTHAMFLG',\n",
      "       'AMPHFLG', 'STIMFLG', 'BENZFLG', 'TRNQFLG', 'BARBFLG', 'SEDHPFLG',\n",
      "       'INHFLG', 'OTCFLG', 'OTHERFLG', 'ALCDRUG', 'PSYPROB'],\n",
      "      dtype='object')\n",
      "Index(['SERVSETA', 'DISYR', 'AGE', 'GENDER', 'RACE', 'ETHNIC', 'MARSTAT',\n",
      "       'EDUC', 'EMPLOY', 'DETNLF', 'PREG', 'VET', 'LIVARAG', 'PRIMINC',\n",
      "       'ARRESTS', 'STFIPS', 'CBSA', 'REGION', 'DIVISION', 'SERVSETD',\n",
      "       'METHUSE', 'DAYWAIT', 'PSOURCE', 'NOPRIOR', 'SUB1', 'ROUTE1', 'FREQ1',\n",
      "       'FRSTUSE1', 'SUB2', 'SUB3', 'NUMSUBS', 'ALCFLG', 'COKEFLG', 'MARFLG',\n",
      "       'HERFLG', 'METHFLG', 'OPSYNFLG', 'PCPFLG', 'HALLFLG', 'MTHAMFLG',\n",
      "       'AMPHFLG', 'STIMFLG', 'BENZFLG', 'TRNQFLG', 'BARBFLG', 'SEDHPFLG',\n",
      "       'INHFLG', 'OTCFLG', 'OTHERFLG', 'ALCDRUG', 'PSYPROB'],\n",
      "      dtype='object')\n"
     ]
    }
   ],
   "source": [
    "print(X_NO_LOS_REASON_DROP.columns)\n",
    "print(test2.columns)"
   ]
  },
  {
   "cell_type": "code",
   "execution_count": 104,
   "metadata": {},
   "outputs": [
    {
     "data": {
      "text/plain": [
       "51"
      ]
     },
     "execution_count": 104,
     "metadata": {},
     "output_type": "execute_result"
    }
   ],
   "source": [
    "len(test2.columns)"
   ]
  },
  {
   "cell_type": "code",
   "execution_count": 105,
   "metadata": {},
   "outputs": [
    {
     "data": {
      "text/plain": [
       "10.121117367610182"
      ]
     },
     "execution_count": 105,
     "metadata": {},
     "output_type": "execute_result"
    }
   ],
   "source": [
    "X_train, X_test, y_train, y_test = train_test_split(X_NO_LOS_REASON, Y_LOS, test_size=.8, random_state=101)\n",
    "from sklearn.linear_model import LinearRegression\n",
    "lm = LinearRegression()\n",
    "lm.fit(X_train, y_train)\n",
    "predictions = lm.predict(X_test)\n",
    "linearPred = lm.predict(test)\n",
    "\n",
    "from sklearn import metrics\n",
    "np.sqrt(metrics.mean_squared_error(y_test, predictions))"
   ]
  },
  {
   "cell_type": "code",
   "execution_count": 106,
   "metadata": {},
   "outputs": [
    {
     "name": "stdout",
     "output_type": "stream",
     "text": [
      "             precision    recall  f1-score   support\n",
      "\n",
      "          0       0.67      0.79      0.73    263352\n",
      "          1       0.64      0.49      0.56    200570\n",
      "\n",
      "avg / total       0.66      0.66      0.65    463922\n",
      "\n"
     ]
    }
   ],
   "source": [
    "X_train, X_test, y_train, y_test = train_test_split(X_NO_LOS_REASON, Y_REASON, test_size=.33, random_state=101)\n",
    "from sklearn.linear_model import LogisticRegression\n",
    "log = LogisticRegression()\n",
    "log.fit(X_train, y_train)\n",
    "predictions = log.predict(X_test)\n",
    "logPred = log.predict(test)\n",
    "\n",
    "from sklearn.metrics import classification_report\n",
    "print(classification_report(y_test, predictions))"
   ]
  },
  {
   "cell_type": "code",
   "execution_count": 176,
   "metadata": {},
   "outputs": [],
   "source": [
    "from sklearn.naive_bayes import BernoulliNB\n",
    "from sklearn.naive_bayes import GaussianNB\n",
    "from sklearn.naive_bayes import MultinomialNB"
   ]
  },
  {
   "cell_type": "code",
   "execution_count": 228,
   "metadata": {},
   "outputs": [
    {
     "name": "stdout",
     "output_type": "stream",
     "text": [
      "GaussianNB(priors=None)\n",
      "             precision    recall  f1-score   support\n",
      "\n",
      "          0       0.66      0.78      0.71    263352\n",
      "          1       0.62      0.46      0.53    200570\n",
      "\n",
      "avg / total       0.64      0.64      0.63    463922\n",
      "\n"
     ]
    }
   ],
   "source": [
    "X_train, X_test, y_train, y_test = train_test_split(X_NO_LOS_REASON, Y_REASON, test_size=.33, random_state=101)\n",
    "\n",
    "Gauss = GaussianNB()\n",
    "\n",
    "Gauss.fit(X_train, y_train)\n",
    "print(Gauss)\n",
    "\n",
    "predictions = Gauss.predict(X_test)\n",
    "print(classification_report(y_test, predictions))"
   ]
  },
  {
   "cell_type": "code",
   "execution_count": 232,
   "metadata": {},
   "outputs": [
    {
     "name": "stdout",
     "output_type": "stream",
     "text": [
      "BernoulliNB(alpha=1.0, binarize=0.0, class_prior=None, fit_prior=True)\n",
      "             precision    recall  f1-score   support\n",
      "\n",
      "          0       0.64      0.66      0.65    263352\n",
      "          1       0.53      0.51      0.52    200570\n",
      "\n",
      "avg / total       0.59      0.59      0.59    463922\n",
      "\n"
     ]
    }
   ],
   "source": [
    "X_train, X_test, y_train, y_test = train_test_split(X_NO_LOS_REASON, Y_REASON, test_size=.33, random_state=101)\n",
    "\n",
    "Bern = BernoulliNB()\n",
    "\n",
    "Bern.fit(X_train, y_train)\n",
    "print(Bern)\n",
    "\n",
    "predictions = Bern.predict(X_test)\n",
    "print(classification_report(y_test, predictions))"
   ]
  },
  {
   "cell_type": "code",
   "execution_count": 230,
   "metadata": {},
   "outputs": [
    {
     "data": {
      "text/plain": [
       "<matplotlib.axes._subplots.AxesSubplot at 0x2a9b595fcf8>"
      ]
     },
     "execution_count": 230,
     "metadata": {},
     "output_type": "execute_result"
    },
    {
     "data": {
      "image/png": "[encoded data removed]",
      "text/plain": [
       "<Figure size 432x288 with 2 Axes>"
      ]
     },
     "metadata": {},
     "output_type": "display_data"
    }
   ],
   "source": [
    "sns.heatmap(train.corr())"
   ]
  },
  {
   "cell_type": "code",
   "execution_count": 233,
   "metadata": {},
   "outputs": [
    {
     "data": {
      "text/plain": [
       "StandardScaler(copy=True, with_mean=True, with_std=True)"
      ]
     },
     "execution_count": 233,
     "metadata": {},
     "output_type": "execute_result"
    }
   ],
   "source": [
    "from sklearn.preprocessing import StandardScaler\n",
    "scaler = StandardScaler()\n",
    "scaler.fit(X_NO_LOS_REASON)\n"
   ]
  },
  {
   "cell_type": "code",
   "execution_count": 234,
   "metadata": {},
   "outputs": [],
   "source": [
    "scaled_data = scaler.transform(X_NO_LOS_REASON)"
   ]
  },
  {
   "cell_type": "code",
   "execution_count": 238,
   "metadata": {},
   "outputs": [
    {
     "data": {
      "text/plain": [
       "10.127024201042731"
      ]
     },
     "execution_count": 238,
     "metadata": {},
     "output_type": "execute_result"
    }
   ],
   "source": [
    "X_train, X_test, y_train, y_test = train_test_split(scaled_data, Y_LOS, test_size=.4, random_state=101)\n",
    "from sklearn.linear_model import LinearRegression\n",
    "lm = LinearRegression()\n",
    "lm.fit(X_train, y_train)\n",
    "predictions = lm.predict(X_test)\n",
    "linearPred = lm.predict(test)\n",
    "\n",
    "from sklearn import metrics\n",
    "np.sqrt(metrics.mean_squared_error(y_test, predictions))"
   ]
  },
  {
   "cell_type": "code",
   "execution_count": 237,
   "metadata": {},
   "outputs": [
    {
     "name": "stdout",
     "output_type": "stream",
     "text": [
      "             precision    recall  f1-score   support\n",
      "\n",
      "          0       0.67      0.79      0.73    319024\n",
      "          1       0.65      0.50      0.56    243305\n",
      "\n",
      "avg / total       0.66      0.67      0.66    562329\n",
      "\n"
     ]
    }
   ],
   "source": [
    "X_train, X_test, y_train, y_test = train_test_split(scaled_data, Y_REASON, test_size=.4, random_state=101)\n",
    "from sklearn.linear_model import LogisticRegression\n",
    "log = LogisticRegression()\n",
    "log.fit(X_train, y_train)\n",
    "predictions = log.predict(X_test)\n",
    "logPred = log.predict(test)\n",
    "\n",
    "from sklearn.metrics import classification_report\n",
    "print(classification_report(y_test, predictions))"
   ]
  },
  {
   "cell_type": "code",
   "execution_count": 244,
   "metadata": {},
   "outputs": [
    {
     "name": "stdout",
     "output_type": "stream",
     "text": [
      "             precision    recall  f1-score   support\n",
      "\n",
      "          0       0.69      0.68      0.68    478289\n",
      "          1       0.59      0.59      0.59    365205\n",
      "\n",
      "avg / total       0.64      0.64      0.64    843494\n",
      "\n"
     ]
    }
   ],
   "source": [
    "X_train, X_test, y_train, y_test = train_test_split(X_NO_LOS_REASON, Y_REASON, test_size=.6, random_state=101)\n",
    "from sklearn.tree import DecisionTreeClassifier\n",
    "dtree = DecisionTreeClassifier()\n",
    "dtree.fit(X_train,y_train)\n",
    "predictions = dtree.predict(X_test)\n",
    "print(classification_report(y_test,predictions))"
   ]
  },
  {
   "cell_type": "code",
   "execution_count": 107,
   "metadata": {},
   "outputs": [
    {
     "data": {
      "text/plain": [
       "Index(['SERVSETA', 'DISYR', 'AGE', 'GENDER', 'RACE', 'ETHNIC', 'MARSTAT',\n",
       "       'EDUC', 'EMPLOY', 'DETNLF', 'PREG', 'VET', 'LIVARAG', 'PRIMINC',\n",
       "       'ARRESTS', 'STFIPS', 'CBSA', 'REGION', 'DIVISION', 'SERVSETD',\n",
       "       'METHUSE', 'DAYWAIT', 'PSOURCE', 'DETCRIM', 'NOPRIOR', 'SUB1', 'ROUTE1',\n",
       "       'FREQ1', 'FRSTUSE1', 'SUB2', 'ROUTE2', 'FREQ2', 'FRSTUSE2', 'SUB3',\n",
       "       'ROUTE3', 'FREQ3', 'FRSTUSE3', 'NUMSUBS', 'IDU', 'ALCFLG', 'COKEFLG',\n",
       "       'MARFLG', 'HERFLG', 'METHFLG', 'OPSYNFLG', 'PCPFLG', 'HALLFLG',\n",
       "       'MTHAMFLG', 'AMPHFLG', 'STIMFLG', 'BENZFLG', 'TRNQFLG', 'BARBFLG',\n",
       "       'SEDHPFLG', 'INHFLG', 'OTCFLG', 'OTHERFLG', 'ALCDRUG', 'DSMCRIT',\n",
       "       'PSYPROB', 'HLTHINS', 'PRIMPAY'],\n",
       "      dtype='object')"
      ]
     },
     "execution_count": 107,
     "metadata": {},
     "output_type": "execute_result"
    }
   ],
   "source": [
    "X_NO_LOS_REASON.columns"
   ]
  },
  {
   "cell_type": "code",
   "execution_count": 108,
   "metadata": {},
   "outputs": [],
   "source": [
    "removeBad = train\n",
    "#from sklearn.preprocessing import StandardScaler\n",
    "#scaler = StandardScaler()\n",
    "#scaler.fit(removeBad)"
   ]
  },
  {
   "cell_type": "code",
   "execution_count": 109,
   "metadata": {},
   "outputs": [],
   "source": [
    "#removeBad = removeBad.drop('LOS', axis=1)\n",
    "#removeBad = removeBad.drop('REASON', axis=1)\n",
    "#removeBad.columns\n",
    "\n"
   ]
  },
  {
   "cell_type": "code",
   "execution_count": 110,
   "metadata": {},
   "outputs": [
    {
     "data": {
      "text/plain": [
       "62"
      ]
     },
     "execution_count": 110,
     "metadata": {},
     "output_type": "execute_result"
    }
   ],
   "source": [
    "removeTest = test\n",
    "#removeTest = removeTest.drop('LOS', axis=1)\n",
    "#removeTest = removeTest.drop('REASON', axis=1)\n",
    "removeTest.columns\n",
    "len(removeTest.columns)"
   ]
  },
  {
   "cell_type": "code",
   "execution_count": 111,
   "metadata": {},
   "outputs": [],
   "source": [
    "removeBad = removeBad[removeBad.GENDER != -9]\n",
    "removeBad = removeBad[removeBad.RACE != -9]\n",
    "removeBad = removeBad[removeBad.ETHNIC != -9]\n",
    "removeBad = removeBad[removeBad.MARSTAT != -9]\n",
    "removeBad = removeBad[removeBad.EDUC != -9]\n",
    "removeBad = removeBad[removeBad.EMPLOY != -9]\n",
    "removeBad = removeBad[removeBad.DETNLF != -9] #\n",
    "removeBad = removeBad[removeBad.PREG != -9] #\n",
    "removeBad = removeBad[removeBad.VET != -9]\n",
    "removeBad = removeBad[removeBad.LIVARAG != -9]\n",
    "removeBad = removeBad[removeBad.PRIMINC != -9]\n",
    "removeBad = removeBad[removeBad.ARRESTS != -9]\n",
    "removeBad = removeBad[removeBad.STFIPS != -9]\n",
    "removeBad = removeBad[removeBad.CBSA != -9]\n",
    "removeBad = removeBad[removeBad.REGION != -9]\n"
   ]
  },
  {
   "cell_type": "code",
   "execution_count": 112,
   "metadata": {},
   "outputs": [],
   "source": [
    "X_NO_LOS_REASON2 = removeBad.drop('REASON', axis=1)\n",
    "X_NO_LOS_REASON2 = X_NO_LOS_REASON2.drop('LOS', axis=1)\n",
    "Y_LOS2 = removeBad['LOS']\n",
    "Y_REASON2 = removeBad['REASON']"
   ]
  },
  {
   "cell_type": "code",
   "execution_count": 113,
   "metadata": {},
   "outputs": [
    {
     "data": {
      "text/plain": [
       "62"
      ]
     },
     "execution_count": 113,
     "metadata": {},
     "output_type": "execute_result"
    }
   ],
   "source": [
    "len(X_NO_LOS_REASON2.columns)"
   ]
  },
  {
   "cell_type": "code",
   "execution_count": 114,
   "metadata": {},
   "outputs": [
    {
     "data": {
      "text/plain": [
       "Index(['SERVSETA', 'DISYR', 'AGE', 'GENDER', 'RACE', 'ETHNIC', 'MARSTAT',\n",
       "       'EDUC', 'EMPLOY', 'DETNLF', 'PREG', 'VET', 'LIVARAG', 'PRIMINC',\n",
       "       'ARRESTS', 'STFIPS', 'CBSA', 'REGION', 'DIVISION', 'SERVSETD',\n",
       "       'METHUSE', 'DAYWAIT', 'PSOURCE', 'DETCRIM', 'NOPRIOR', 'SUB1', 'ROUTE1',\n",
       "       'FREQ1', 'FRSTUSE1', 'SUB2', 'ROUTE2', 'FREQ2', 'FRSTUSE2', 'SUB3',\n",
       "       'ROUTE3', 'FREQ3', 'FRSTUSE3', 'NUMSUBS', 'IDU', 'ALCFLG', 'COKEFLG',\n",
       "       'MARFLG', 'HERFLG', 'METHFLG', 'OPSYNFLG', 'PCPFLG', 'HALLFLG',\n",
       "       'MTHAMFLG', 'AMPHFLG', 'STIMFLG', 'BENZFLG', 'TRNQFLG', 'BARBFLG',\n",
       "       'SEDHPFLG', 'INHFLG', 'OTCFLG', 'OTHERFLG', 'ALCDRUG', 'DSMCRIT',\n",
       "       'PSYPROB', 'HLTHINS', 'PRIMPAY'],\n",
       "      dtype='object')"
      ]
     },
     "execution_count": 114,
     "metadata": {},
     "output_type": "execute_result"
    }
   ],
   "source": [
    "#X_NO_LOS_REASON2 = X_NO_LOS_REASON2.drop('REASON', axis=1)\n",
    "X_NO_LOS_REASON2.columns"
   ]
  },
  {
   "cell_type": "code",
   "execution_count": 115,
   "metadata": {},
   "outputs": [
    {
     "data": {
      "text/plain": [
       "Index(['SERVSETA', 'DISYR', 'AGE', 'GENDER', 'RACE', 'ETHNIC', 'MARSTAT',\n",
       "       'EDUC', 'EMPLOY', 'DETNLF', 'PREG', 'VET', 'LIVARAG', 'PRIMINC',\n",
       "       'ARRESTS', 'STFIPS', 'CBSA', 'REGION', 'DIVISION', 'SERVSETD',\n",
       "       'METHUSE', 'DAYWAIT', 'PSOURCE', 'DETCRIM', 'NOPRIOR', 'SUB1', 'ROUTE1',\n",
       "       'FREQ1', 'FRSTUSE1', 'SUB2', 'ROUTE2', 'FREQ2', 'FRSTUSE2', 'SUB3',\n",
       "       'ROUTE3', 'FREQ3', 'FRSTUSE3', 'NUMSUBS', 'IDU', 'ALCFLG', 'COKEFLG',\n",
       "       'MARFLG', 'HERFLG', 'METHFLG', 'OPSYNFLG', 'PCPFLG', 'HALLFLG',\n",
       "       'MTHAMFLG', 'AMPHFLG', 'STIMFLG', 'BENZFLG', 'TRNQFLG', 'BARBFLG',\n",
       "       'SEDHPFLG', 'INHFLG', 'OTCFLG', 'OTHERFLG', 'ALCDRUG', 'DSMCRIT',\n",
       "       'PSYPROB', 'HLTHINS', 'PRIMPAY'],\n",
       "      dtype='object')"
      ]
     },
     "execution_count": 115,
     "metadata": {},
     "output_type": "execute_result"
    }
   ],
   "source": [
    "removeTest.columns"
   ]
  },
  {
   "cell_type": "code",
   "execution_count": 116,
   "metadata": {},
   "outputs": [],
   "source": [
    "removeTest = test\n",
    "removeTest = removeTest[removeTest.GENDER != -9]\n",
    "removeTest = removeTest[removeTest.RACE != -9]\n",
    "removeTest = removeTest[removeTest.ETHNIC != -9]\n",
    "removeTest = removeTest[removeTest.MARSTAT != -9]\n",
    "removeTest = removeTest[removeTest.EDUC != -9]\n",
    "removeTest = removeTest[removeTest.EMPLOY != -9]\n",
    "removeTest = removeTest[removeTest.DETNLF != -9] #\n",
    "removeTest = removeTest[removeTest.PREG != -9] #\n",
    "removeTest = removeTest[removeTest.VET != -9]\n",
    "removeTest = removeTest[removeTest.LIVARAG != -9]\n",
    "removeTest = removeTest[removeTest.PRIMINC != -9]\n",
    "removeTest = removeTest[removeTest.ARRESTS != -9]\n",
    "removeTest = removeTest[removeTest.STFIPS != -9]\n",
    "removeTest = removeTest[removeTest.CBSA != -9]\n",
    "removeTest = removeTest[removeTest.REGION != -9]"
   ]
  },
  {
   "cell_type": "code",
   "execution_count": 117,
   "metadata": {},
   "outputs": [
    {
     "name": "stdout",
     "output_type": "stream",
     "text": [
      "Index(['SERVSETA', 'DISYR', 'AGE', 'GENDER', 'RACE', 'ETHNIC', 'MARSTAT',\n",
      "       'EDUC', 'EMPLOY', 'DETNLF', 'PREG', 'VET', 'LIVARAG', 'PRIMINC',\n",
      "       'ARRESTS', 'STFIPS', 'CBSA', 'REGION', 'DIVISION', 'SERVSETD',\n",
      "       'METHUSE', 'DAYWAIT', 'PSOURCE', 'DETCRIM', 'NOPRIOR', 'SUB1', 'ROUTE1',\n",
      "       'FREQ1', 'FRSTUSE1', 'SUB2', 'ROUTE2', 'FREQ2', 'FRSTUSE2', 'SUB3',\n",
      "       'ROUTE3', 'FREQ3', 'FRSTUSE3', 'NUMSUBS', 'IDU', 'ALCFLG', 'COKEFLG',\n",
      "       'MARFLG', 'HERFLG', 'METHFLG', 'OPSYNFLG', 'PCPFLG', 'HALLFLG',\n",
      "       'MTHAMFLG', 'AMPHFLG', 'STIMFLG', 'BENZFLG', 'TRNQFLG', 'BARBFLG',\n",
      "       'SEDHPFLG', 'INHFLG', 'OTCFLG', 'OTHERFLG', 'ALCDRUG', 'DSMCRIT',\n",
      "       'PSYPROB', 'HLTHINS', 'PRIMPAY'],\n",
      "      dtype='object')\n",
      "Index(['SERVSETA', 'DISYR', 'AGE', 'GENDER', 'RACE', 'ETHNIC', 'MARSTAT',\n",
      "       'EDUC', 'EMPLOY', 'DETNLF', 'PREG', 'VET', 'LIVARAG', 'PRIMINC',\n",
      "       'ARRESTS', 'STFIPS', 'CBSA', 'REGION', 'DIVISION', 'SERVSETD',\n",
      "       'METHUSE', 'DAYWAIT', 'REASON', 'LOS', 'PSOURCE', 'DETCRIM', 'NOPRIOR',\n",
      "       'SUB1', 'ROUTE1', 'FREQ1', 'FRSTUSE1', 'SUB2', 'ROUTE2', 'FREQ2',\n",
      "       'FRSTUSE2', 'SUB3', 'ROUTE3', 'FREQ3', 'FRSTUSE3', 'NUMSUBS', 'IDU',\n",
      "       'ALCFLG', 'COKEFLG', 'MARFLG', 'HERFLG', 'METHFLG', 'OPSYNFLG',\n",
      "       'PCPFLG', 'HALLFLG', 'MTHAMFLG', 'AMPHFLG', 'STIMFLG', 'BENZFLG',\n",
      "       'TRNQFLG', 'BARBFLG', 'SEDHPFLG', 'INHFLG', 'OTCFLG', 'OTHERFLG',\n",
      "       'ALCDRUG', 'DSMCRIT', 'PSYPROB', 'HLTHINS', 'PRIMPAY'],\n",
      "      dtype='object')\n"
     ]
    }
   ],
   "source": [
    "print(removeTest.columns)\n",
    "print(removeBad.columns)"
   ]
  },
  {
   "cell_type": "code",
   "execution_count": 118,
   "metadata": {},
   "outputs": [
    {
     "name": "stdout",
     "output_type": "stream",
     "text": [
      "             precision    recall  f1-score   support\n",
      "\n",
      "          0       0.70      0.84      0.76     18605\n",
      "          1       0.64      0.43      0.52     12029\n",
      "\n",
      "avg / total       0.67      0.68      0.66     30634\n",
      "\n"
     ]
    }
   ],
   "source": [
    "X_train, X_test, y_train, y_test = train_test_split(X_NO_LOS_REASON2, Y_REASON2, test_size=.4, random_state=101)\n",
    "from sklearn.linear_model import LogisticRegression\n",
    "log = LogisticRegression()\n",
    "log.fit(X_train, y_train)\n",
    "predictions = log.predict(X_test)\n",
    "logPred = log.predict(removeTest)\n",
    "\n",
    "from sklearn.metrics import classification_report\n",
    "print(classification_report(y_test, predictions))"
   ]
  },
  {
   "cell_type": "code",
   "execution_count": 119,
   "metadata": {},
   "outputs": [
    {
     "data": {
      "text/plain": [
       "10.643227470291112"
      ]
     },
     "execution_count": 119,
     "metadata": {},
     "output_type": "execute_result"
    }
   ],
   "source": [
    "X_train, X_test, y_train, y_test = train_test_split(X_NO_LOS_REASON2, Y_LOS2, test_size=.4, random_state=101)\n",
    "from sklearn.linear_model import LinearRegression\n",
    "lm = LinearRegression()\n",
    "lm.fit(X_train, y_train)\n",
    "predictions = lm.predict(X_test)\n",
    "linearPred = lm.predict(test)\n",
    "\n",
    "from sklearn import metrics\n",
    "np.sqrt(metrics.mean_squared_error(y_test, predictions))"
   ]
  },
  {
   "cell_type": "code",
   "execution_count": 125,
   "metadata": {},
   "outputs": [],
   "source": [
    "exp = pd.DataFrame([linearPred,logPred], dtype=float).transpose()\n",
    "exp['CASEID'] = t['CASEID']\n",
    "exp = exp[['CASEID', 0, 1]]\n",
    "exp.to_csv(path_or_buf=r'C:\\Users\\samee\\Desktop\\qc-hackathon\\qc-hackathon\\predictions.csv',header=False)"
   ]
  },
  {
   "cell_type": "code",
   "execution_count": 344,
   "metadata": {},
   "outputs": [
    {
     "name": "stdout",
     "output_type": "stream",
     "text": [
      "BernoulliNB(alpha=1.0, binarize=0.0, class_prior=None, fit_prior=True)\n",
      "             precision    recall  f1-score   support\n",
      "\n",
      "          0       0.65      0.71      0.68     15337\n",
      "          1       0.47      0.41      0.44      9936\n",
      "\n",
      "avg / total       0.58      0.59      0.58     25273\n",
      "\n"
     ]
    }
   ],
   "source": [
    "X_train, X_test, y_train, y_test = train_test_split(X_NO_LOS_REASON2, Y_REASON2, test_size=.33, random_state=101)\n",
    "\n",
    "Bern = BernoulliNB()\n",
    "\n",
    "Bern.fit(X_train, y_train)\n",
    "print(Bern)\n",
    "\n",
    "predictions = Bern.predict(X_test)\n",
    "print(classification_report(y_test, predictions))"
   ]
  },
  {
   "cell_type": "code",
   "execution_count": 345,
   "metadata": {},
   "outputs": [
    {
     "name": "stdout",
     "output_type": "stream",
     "text": [
      "GaussianNB(priors=None)\n",
      "             precision    recall  f1-score   support\n",
      "\n",
      "          0       0.69      0.75      0.72     15337\n",
      "          1       0.56      0.49      0.52      9936\n",
      "\n",
      "avg / total       0.64      0.65      0.64     25273\n",
      "\n"
     ]
    }
   ],
   "source": [
    "X_train, X_test, y_train, y_test = train_test_split(X_NO_LOS_REASON2, Y_REASON2, test_size=.33, random_state=101)\n",
    "\n",
    "Gauss = GaussianNB()\n",
    "\n",
    "Gauss.fit(X_train, y_train)\n",
    "print(Gauss)\n",
    "\n",
    "predictions = Gauss.predict(X_test)\n",
    "print(classification_report(y_test, predictions))"
   ]
  },
  {
   "cell_type": "code",
   "execution_count": 75,
   "metadata": {},
   "outputs": [],
   "source": [
    "df = train.sample(n=10000,replace=False)\n",
    "dft = test.sample(n=10000, replace=False)\n",
    "dft = dft.drop('CASEID', axis=1)"
   ]
  },
  {
   "cell_type": "code",
   "execution_count": 79,
   "metadata": {},
   "outputs": [],
   "source": [
    "df['GENDER'] = df['GENDER'].replace(-9, np.nan)\n",
    "df['GENDER'] = df['GENDER'].fillna(1)\n",
    "\n",
    "df['DETCRIM'] = df['DETCRIM'].replace(-9, np.nan)\n",
    "df['DETCRIM'] = df['DETCRIM'].fillna(3)\n",
    "\n",
    "df['ROUTE2'] = df['ROUTE2'].replace(-9, np.nan)\n",
    "df['ROUTE2'] = df['ROUTE2'].fillna(2)\n",
    "\n",
    "df['FREQ2'] = df['FREQ2'].replace(-9, np.nan)\n",
    "df['FREQ2'] = df['FREQ2'].fillna(1)\n",
    "\n",
    "df['ROUTE3'] = df['ROUTE3'].replace(-9, np.nan)\n",
    "df['ROUTE3'] = df['ROUTE3'].fillna(2)\n",
    "\n",
    "df['FREQ3'] = df['FREQ3'].replace(-9, np.nan)\n",
    "df['FREQ3'] = df['FREQ3'].fillna(1)"
   ]
  },
  {
   "cell_type": "code",
   "execution_count": 80,
   "metadata": {},
   "outputs": [],
   "source": [
    "dft['GENDER'] = dft['GENDER'].replace(-9, np.nan)\n",
    "dft['GENDER'] = dft['GENDER'].fillna(1)\n",
    "\n",
    "dft['DETCRIM'] = dft['DETCRIM'].replace(-9, np.nan)\n",
    "dft['DETCRIM'] = dft['DETCRIM'].fillna(3)\n",
    "\n",
    "dft['ROUTE2'] = dft['ROUTE2'].replace(-9, np.nan)\n",
    "dft['ROUTE2'] = dft['ROUTE2'].fillna(2)\n",
    "\n",
    "dft['FREQ2'] = dft['FREQ2'].replace(-9, np.nan)\n",
    "dft['FREQ2'] = dft['FREQ2'].fillna(1)\n",
    "\n",
    "dft['ROUTE3'] = dft['ROUTE3'].replace(-9, np.nan)\n",
    "dft['ROUTE3'] = dft['ROUTE3'].fillna(2)\n",
    "\n",
    "dft['FREQ3'] = dft['FREQ3'].replace(-9, np.nan)\n",
    "dft['FREQ3'] = dft['FREQ3'].fillna(1)"
   ]
  },
  {
   "cell_type": "code",
   "execution_count": 81,
   "metadata": {},
   "outputs": [],
   "source": [
    "Y_los = df['LOS']\n",
    "Y_res = df['REASON']\n",
    "X_no_los_res = df.drop('REASON', axis=1)\n",
    "X_no_los_res = X_no_los_res.drop('LOS', axis=1)"
   ]
  },
  {
   "cell_type": "code",
   "execution_count": 82,
   "metadata": {},
   "outputs": [],
   "source": [
    "from sklearn.model_selection import train_test_split"
   ]
  },
  {
   "cell_type": "code",
   "execution_count": 83,
   "metadata": {},
   "outputs": [
    {
     "data": {
      "text/plain": [
       "10.386792423786096"
      ]
     },
     "execution_count": 83,
     "metadata": {},
     "output_type": "execute_result"
    }
   ],
   "source": [
    "X_train, X_test, y_train, y_test = train_test_split(X_no_los_res, Y_los, test_size=.4, random_state=101)\n",
    "from sklearn.linear_model import LinearRegression\n",
    "lm = LinearRegression()\n",
    "lm.fit(X_train, y_train)\n",
    "predictions = lm.predict(X_test)\n",
    "linearPred = lm.predict(dft)\n",
    "\n",
    "from sklearn import metrics\n",
    "np.sqrt(metrics.mean_squared_error(y_test, predictions))"
   ]
  },
  {
   "cell_type": "code",
   "execution_count": 84,
   "metadata": {},
   "outputs": [
    {
     "data": {
      "text/plain": [
       "LogisticRegression(C=1.0, class_weight=None, dual=False, fit_intercept=True,\n",
       "          intercept_scaling=1, max_iter=100, multi_class='ovr', n_jobs=1,\n",
       "          penalty='l2', random_state=None, solver='liblinear', tol=0.0001,\n",
       "          verbose=0, warm_start=False)"
      ]
     },
     "execution_count": 84,
     "metadata": {},
     "output_type": "execute_result"
    }
   ],
   "source": [
    "X_train, X_test, y_train, y_test = train_test_split(X_no_los_res, Y_res, test_size=.4)\n",
    "from sklearn.linear_model import LogisticRegression\n",
    "log = LogisticRegression()\n",
    "log.fit(X_train, y_train)\n"
   ]
  },
  {
   "cell_type": "code",
   "execution_count": 85,
   "metadata": {},
   "outputs": [
    {
     "name": "stdout",
     "output_type": "stream",
     "text": [
      "             precision    recall  f1-score   support\n",
      "\n",
      "          0       0.68      0.81      0.74      2299\n",
      "          1       0.65      0.48      0.55      1701\n",
      "\n",
      "avg / total       0.66      0.67      0.66      4000\n",
      "\n",
      "[[1861  438]\n",
      " [ 890  811]]\n"
     ]
    }
   ],
   "source": [
    "predictions = log.predict(X_test)\n",
    "logPred = log.predict(dft)\n",
    "\n",
    "from sklearn.metrics import classification_report, confusion_matrix\n",
    "print(classification_report(y_test, predictions))\n",
    "print(confusion_matrix(y_test, predictions))"
   ]
  },
  {
   "cell_type": "code",
   "execution_count": null,
   "metadata": {},
   "outputs": [],
   "source": []
  }
 ],
 "metadata": {
  "kernelspec": {
   "display_name": "Python 3",
   "language": "python",
   "name": "python3"
  },
  "language_info": {
   "codemirror_mode": {
    "name": "ipython",
    "version": 3
   },
   "file_extension": ".py",
   "mimetype": "text/x-python",
   "name": "python",
   "nbconvert_exporter": "python",
   "pygments_lexer": "ipython3",
   "version": "3.7.4"
  }
 },
 "nbformat": 4,
 "nbformat_minor": 2
}
